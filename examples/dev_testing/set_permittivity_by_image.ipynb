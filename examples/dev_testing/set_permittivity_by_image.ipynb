{
 "cells": [
  {
   "cell_type": "code",
   "execution_count": 1,
   "metadata": {
    "pycharm": {
     "is_executing": false,
     "name": "#%%\n"
    }
   },
   "outputs": [
    {
     "name": "stdout",
     "text": [
      "CONFIGURATION FILE {'root': 'C:\\\\Users\\\\Julie Belleville\\\\Documents\\\\_GIT_2019_ONWARDS\\\\capstone_ENPH459\\\\lumopt_changes\\\\lumopt', 'lumapi': 'C:\\\\Program Files\\\\Lumerical\\\\v202\\\\api\\\\python'}\n",
      "Accurate interface detection enabled\n",
      "geometry setup complete\n"
     ],
     "output_type": "stream"
    }
   ],
   "source": [
    "\"\"\" Copyright chriskeraly\n",
    "    Copyright (c) 2019 Lumerical Inc. \"\"\"\n",
    "\"\"\"\n",
    "General setup section to get what we need to test things\n",
    "\"\"\"\n",
    "######## IMPORTS ########\n",
    "# General purpose imports\n",
    "import os\n",
    "import numpy as np\n",
    "import scipy as sp\n",
    "import scipy.interpolate\n",
    "import sys\n",
    "\n",
    "# add lumapi to path\n",
    "sys.path.append(r\"C:\\Program Files\\Lumerical\\v202\\api\\python\")\n",
    "\n",
    "# Optimization specific imports\n",
    "from lumopt.utilities.wavelengths import Wavelengths\n",
    "from lumopt.geometries.polygon import FunctionDefinedPolygon\n",
    "from lumopt.figures_of_merit.modematch import ModeMatch\n",
    "from lumopt.optimizers.generic_optimizers import ScipyOptimizers\n",
    "from lumopt.optimization import Optimization\n",
    "\n",
    "######## DEFINE BASE SIMULATION ########\n",
    "base_script = os.path.join(os.path.abspath(''), 'splitter_base_TE_modematch.lsf')\n",
    "# base_script = os.path.join(os.path.dirname(__file__), 'splitter_base_TE_modematch.lsf')\n",
    "\n",
    "######## DEFINE SPECTRAL RANGE #########\n",
    "# Global wavelength/frequency range for all the simulations\n",
    "wavelengths = Wavelengths(start = 1300e-9, stop = 1800e-9, points = 21)\n",
    "\n",
    "######## DEFINE OPTIMIZABLE GEOMETRY ########\n",
    "# The class FunctionDefinedPolygon needs a parameterized Polygon (with points ordered\n",
    "# in a counter-clockwise direction). Here the geometry is defined by 10 parameters defining\n",
    "# the knots of a spline, and the resulting Polygon has 200 edges, making it quite smooth.\n",
    "initial_points_x = np.linspace(-1.0e-6, 1.0e-6, 10)\n",
    "initial_points_y = np.linspace(0.25e-6, 0.6e-6, initial_points_x.size)\n",
    "def taper_splitter(params = initial_points_y):\n",
    "    ''' Defines a taper where the paramaters are the y coordinates of the nodes of a cubic spline. '''\n",
    "    points_x = np.concatenate(([initial_points_x.min() - 0.01e-6], initial_points_x, [initial_points_x.max() + 0.01e-6]))\n",
    "    points_y = np.concatenate(([initial_points_y.min()], params, [initial_points_y.max()]))\n",
    "    n_interpolation_points = 100\n",
    "    polygon_points_x = np.linspace(min(points_x), max(points_x), n_interpolation_points)\n",
    "    interpolator = sp.interpolate.interp1d(points_x, points_y, kind = 'cubic')\n",
    "    polygon_points_y = interpolator(polygon_points_x)\n",
    "    polygon_points_up = [(x, y) for x, y in zip(polygon_points_x, polygon_points_y)]\n",
    "    polygon_points_down = [(x, -y) for x, y in zip(polygon_points_x, polygon_points_y)]\n",
    "    polygon_points = np.array(polygon_points_up[::-1] + polygon_points_down)\n",
    "    return polygon_points\n",
    "\n",
    "# The geometry will pass on the bounds and initial parameters to the optimizer.\n",
    "bounds = [(0.2e-6, 0.8e-6)] * initial_points_y.size\n",
    "# The permittivity of the material making the optimizable geometry and the permittivity of the material surrounding \n",
    "# it must be defined. Since this is a 2D simulation, the depth has no importance. The edge precision defines the\n",
    "# discretization of the edges forming the optimizable polygon. It should be set such there are at least a few points \n",
    "# per mesh cell. An effective index of 2.8 is user to simulate a 2D slab of 220 nm thickness.\n",
    "geometry = FunctionDefinedPolygon(func = taper_splitter, initial_params = initial_points_y, bounds = bounds, z = 0.0, depth = 220e-9, eps_out = 1.44 ** 2, eps_in = 2.8 ** 2, edge_precision = 5, dx = 1e-9)\n",
    "\n",
    "######## DEFINE FIGURE OF MERIT ########\n",
    "# The base simulation script defines a field monitor named 'fom' at the point where we want to modematch to the 3rd mode (fundamental TE mode).\n",
    "fom = ModeMatch(monitor_name = 'fom', mode_number = 2, direction = 'Forward', multi_freq_src = True, target_T_fwd = lambda wl: np.ones(wl.size), norm_p = 1)\n",
    "\n",
    "######## DEFINE OPTIMIZATION ALGORITHM ########\n",
    "# This will run Scipy's implementation of the L-BFGS-B algoithm for at least 40 iterations. Since the variables are on the\n",
    "# order of 1e-6, thery are scale up to be on the order of 1.\n",
    "optimizer = ScipyOptimizers(max_iter = 30, method = 'L-BFGS-B', scaling_factor = 1e6, pgtol = 1e-5)\n",
    "\n",
    "######## PUT EVERYTHING TOGETHER ########\n",
    "opt = Optimization(base_script = base_script, wavelengths = wavelengths, fom = fom, geometry = geometry, optimizer = optimizer, hide_fdtd_cad = False, use_deps = True)\n",
    "print('geometry setup complete')"
   ]
  },
  {
   "cell_type": "code",
   "execution_count": 2,
   "metadata": {
    "pycharm": {
     "is_executing": false,
     "name": "#%%\n"
    }
   },
   "outputs": [
    {
     "name": "stdout",
     "text": [
      "fetched epsilons\n"
     ],
     "output_type": "stream"
    }
   ],
   "source": [
    "\"\"\"\n",
    "Fetch initial epsilon values, set from the defaults of the previous box\n",
    "\"\"\"\n",
    "from lumopt.geometries.geometry import Geometry\n",
    "import lumapi \n",
    "\n",
    "opt.initialize()\n",
    "Geometry.get_eps_from_index_monitor(opt.sim.fdtd, 'original_eps_data')\n",
    "eps_image = lumapi.getVar(opt.sim.fdtd.handle, 'original_eps_data')\n",
    "print('fetched epsilons')\n",
    "# print(eps_image)"
   ]
  },
  {
   "cell_type": "code",
   "execution_count": 3,
   "metadata": {
    "pycharm": {
     "is_executing": false,
     "name": "#%%\n"
    }
   },
   "outputs": [
    {
     "name": "stdout",
     "text": [
      "new_eps generated\n"
     ],
     "output_type": "stream"
    }
   ],
   "source": [
    "\"\"\"\n",
    "Create a new fake array of epsilons to test with (all ones)!\n",
    "\"\"\"\n",
    "new_eps = np.ones((eps_image.shape[0], eps_image.shape[1], max(2, eps_image.shape[2]))) * np.max(eps_image)# (X, Y, Z, 1) = isotropic material\n",
    "print(f'new_eps generated')"
   ]
  },
  {
   "cell_type": "code",
   "execution_count": 4,
   "metadata": {
    "pycharm": {
     "is_executing": false,
     "name": "#%%\n"
    }
   },
   "outputs": [
    {
     "name": "stdout",
     "text": [
      "Running forward solves\n",
      "FOM = 0.7260740259374892\n",
      "new geo code: 1.0\n"
     ],
     "output_type": "stream"
    }
   ],
   "source": [
    "\"\"\"\n",
    "\n",
    "Create a function to add updated geo in (then test)\n",
    "Function is modified from topology.py > add_geo\n",
    "\"\"\"\n",
    "from lumopt.lumerical_methods.lumerical_scripts import set_spatial_interp\n",
    "    \n",
    "def add_geo(eps, sim, params=None, only_update = False):\n",
    "\n",
    "    fdtd=sim.fdtd\n",
    "    monitor_name = 'opt_fields'\n",
    "    index_monitor_name = 'opt_fields_index'\n",
    "    \n",
    "    x_geo = opt.forward_fields.x\n",
    "    y_geo = opt.forward_fields.y\n",
    "    z_geo = opt.forward_fields.z\n",
    "    if z_geo.size == 1:\n",
    "        z_geo = np.array([geometry.z-geometry.depth/2,geometry.z+geometry.depth/2])\n",
    "    fdtd.putv('x_geo', x_geo)\n",
    "    fdtd.putv('y_geo', y_geo)\n",
    "    fdtd.putv('z_geo', z_geo)\n",
    "\n",
    "    fdtd.eval(f'select(\"polygon_{geometry.hash}\");'\n",
    "              f'delete;')\n",
    "    \n",
    "    if not only_update:\n",
    "        fdtd.eval('addimport;set(\"detail\", 1);')\n",
    "        # set_spatial_interp(sim.fdtd,'opt_fields','specified position') \n",
    "        # set_spatial_interp(sim.fdtd,'opt_fields_index','specified position') \n",
    "        # \n",
    "        # script=('select(\"opt_fields\");'\n",
    "        #         'set(\"x min\",{});'\n",
    "        #         'set(\"x max\",{});'\n",
    "        #         'set(\"y min\",{});'\n",
    "        #         'set(\"y max\",{});').format(np.amin(x_geo),np.amax(x_geo),np.amin(y_geo),np.amax(y_geo))\n",
    "        # fdtd.eval(script)\n",
    "        # \n",
    "        # script=('select(\"opt_fields_index\");'\n",
    "        #         'set(\"x min\",{});'\n",
    "        #         'set(\"x max\",{});'\n",
    "        #         'set(\"y min\",{});'\n",
    "        #         'set(\"y max\",{});').format(np.amin(x_geo),np.amax(x_geo),np.amin(y_geo),np.amax(y_geo))\n",
    "        # fdtd.eval(script)\n",
    "        # \n",
    "        # script=('addimport;'\n",
    "        #         'set(\"detail\",1);')\n",
    "        # fdtd.eval(script)\n",
    "        # \n",
    "        # mesh_script=('addmesh;'\n",
    "        #             'set(\"x min\",{});'\n",
    "        #             'set(\"x max\",{});'\n",
    "        #             'set(\"y min\",{});'\n",
    "        #             'set(\"y max\",{});'\n",
    "        #             'set(\"dx\",{});'\n",
    "        #             'set(\"dy\",{});').format(np.amin(x_geo),np.amax(x_geo),np.amin(y_geo),np.amax(y_geo), x_geo[1] - x_geo[0], y_geo[1] - y_geo[0])\n",
    "        # fdtd.eval(mesh_script)\n",
    "\n",
    "    if eps is not None:\n",
    "        fdtd.putv('eps_geo', eps)\n",
    "\n",
    "        ## We delete and re-add the import to avoid a warning\n",
    "        script=('select(\"import\");'\n",
    "                'delete;')\n",
    "        fdtd.eval(script)\n",
    "        \n",
    "        script=(\n",
    "                'addimport;'\n",
    "                'new_geo_successful = importnk2(sqrt(eps_geo),x_geo,y_geo,z_geo);')\n",
    "        fdtd.eval(script)\n",
    "        new_geo_successful = lumapi.getVar(opt.sim.fdtd.handle, 'new_geo_successful')\n",
    "        print(f'new geo code: {new_geo_successful}')\n",
    "\n",
    "opt.run_forward_solves(initial_points_y)\n",
    "add_geo(new_eps, opt.sim)"
   ]
  },
  {
   "cell_type": "code",
   "execution_count": 5,
   "metadata": {
    "pycharm": {
     "is_executing": false,
     "name": "#%%\n"
    }
   },
   "outputs": [
    {
     "name": "stdout",
     "text": [
      "fetched newly set epsilons\n[[[[[4.9568+0.j 4.9568+0.j 2.7944+0.j]]]\n\n\n  [[[7.84  +0.j 4.9568+0.j 4.9568+0.j]]]\n\n\n  [[[7.84  +0.j 4.9568+0.j 4.9568+0.j]]]\n\n\n  ...\n\n\n  [[[7.84  +0.j 4.9568+0.j 4.9568+0.j]]]\n\n\n  [[[7.84  +0.j 4.9568+0.j 4.9568+0.j]]]\n\n\n  [[[4.9568+0.j 2.0736+0.j 2.7944+0.j]]]]\n\n\n\n [[[[4.9568+0.j 7.84  +0.j 4.9568+0.j]]]\n\n\n  [[[7.84  +0.j 7.84  +0.j 7.84  +0.j]]]\n\n\n  [[[7.84  +0.j 7.84  +0.j 7.84  +0.j]]]\n\n\n  ...\n\n\n  [[[7.84  +0.j 7.84  +0.j 7.84  +0.j]]]\n\n\n  [[[7.84  +0.j 7.84  +0.j 7.84  +0.j]]]\n\n\n  [[[4.9568+0.j 2.0736+0.j 4.9568+0.j]]]]\n\n\n\n [[[[4.9568+0.j 7.84  +0.j 4.9568+0.j]]]\n\n\n  [[[7.84  +0.j 7.84  +0.j 7.84  +0.j]]]\n\n\n  [[[7.84  +0.j 7.84  +0.j 7.84  +0.j]]]\n\n\n  ...\n\n\n  [[[7.84  +0.j 7.84  +0.j 7.84  +0.j]]]\n\n\n  [[[7.84  +0.j 7.84  +0.j 7.84  +0.j]]]\n\n\n  [[[4.9568+0.j 2.0736+0.j 4.9568+0.j]]]]\n\n\n\n ...\n\n\n\n [[[[4.9568+0.j 7.84  +0.j 4.9568+0.j]]]\n\n\n  [[[7.84  +0.j 7.84  +0.j 7.84  +0.j]]]\n\n\n  [[[7.84  +0.j 7.84  +0.j 7.84  +0.j]]]\n\n\n  ...\n\n\n  [[[7.84  +0.j 7.84  +0.j 7.84  +0.j]]]\n\n\n  [[[7.84  +0.j 7.84  +0.j 7.84  +0.j]]]\n\n\n  [[[4.9568+0.j 2.0736+0.j 4.9568+0.j]]]]\n\n\n\n [[[[4.9568+0.j 7.84  +0.j 4.9568+0.j]]]\n\n\n  [[[7.84  +0.j 7.84  +0.j 7.84  +0.j]]]\n\n\n  [[[7.84  +0.j 7.84  +0.j 7.84  +0.j]]]\n\n\n  ...\n\n\n  [[[7.84  +0.j 7.84  +0.j 7.84  +0.j]]]\n\n\n  [[[7.84  +0.j 7.84  +0.j 7.84  +0.j]]]\n\n\n  [[[4.9568+0.j 2.0736+0.j 4.9568+0.j]]]]\n\n\n\n [[[[2.0736+0.j 4.9568+0.j 2.7944+0.j]]]\n\n\n  [[[2.0736+0.j 4.9568+0.j 4.9568+0.j]]]\n\n\n  [[[2.0736+0.j 4.9568+0.j 4.9568+0.j]]]\n\n\n  ...\n\n\n  [[[2.0736+0.j 4.9568+0.j 4.9568+0.j]]]\n\n\n  [[[2.0736+0.j 4.9568+0.j 4.9568+0.j]]]\n\n\n  [[[2.0736+0.j 2.0736+0.j 2.7944+0.j]]]]]\n"
     ],
     "output_type": "stream"
    }
   ],
   "source": [
    "# fetch new \n",
    "Geometry.get_eps_from_index_monitor(opt.sim.fdtd, 'newly_set_eps_data')\n",
    "newly_set_eps_data = lumapi.getVar(opt.sim.fdtd.handle, 'newly_set_eps_data')\n",
    "print('fetched newly set epsilons')\n",
    "print(newly_set_eps_data)"
   ]
  },
  {
   "cell_type": "code",
   "execution_count": 6,
   "outputs": [
    {
     "data": {
      "text/plain": "<Figure size 432x288 with 2 Axes>",
      "image/png": "[encoded data removed]"
     },
     "metadata": {
      "needs_background": "light"
     },
     "output_type": "display_data"
    },
    {
     "name": "stdout",
     "text": [
      "permittivity images\n"
     ],
     "output_type": "stream"
    }
   ],
   "source": [
    "import matplotlib.pyplot as plt\n",
    "import numpy as np\n",
    "\n",
    "def permittivity_to_image(permittivities):\n",
    "    fig, ax = plt.subplots(len(permittivities))\n",
    "    for i, perm in enumerate(permittivities):\n",
    "        perm = np.abs(perm).astype('float')\n",
    "        perm = np.squeeze(perm)\n",
    "        perm = perm / np.max(perm)\n",
    "        ax[i].imshow(perm, cmap='gray', interpolation='nearest', vmin=np.min(perm), vmax=np.max(perm))\n",
    "    plt.show()\n",
    "\n",
    "permittivity_to_image([eps_image, newly_set_eps_data])\n",
    "print(f'permittivity images')\n"
   ],
   "metadata": {
    "collapsed": false,
    "pycharm": {
     "name": "#%%\n",
     "is_executing": false
    }
   }
  }
 ],
 "metadata": {
  "kernelspec": {
   "display_name": "PyCharm (lumopt)",
   "language": "python",
   "name": "pycharm-23e0aecc"
  },
  "language_info": {
   "codemirror_mode": {
    "name": "ipython",
    "version": 3
   },
   "file_extension": ".py",
   "mimetype": "text/x-python",
   "name": "python",
   "nbconvert_exporter": "python",
   "pygments_lexer": "ipython3",
   "version": "3.8.5"
  },
  "pycharm": {
   "stem_cell": {
    "cell_type": "raw",
    "source": [],
    "metadata": {
     "collapsed": false
    }
   }
  }
 },
 "nbformat": 4,
 "nbformat_minor": 1
}